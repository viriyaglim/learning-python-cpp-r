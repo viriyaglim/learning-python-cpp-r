{
 "cells": [
  {
   "cell_type": "markdown",
   "id": "af25ef6d",
   "metadata": {},
   "source": [
    "# 🧠 LeetCode Lock-In\n",
    "\n",
    "Welcome to my **LeetCode Lock-In** journey 🚀!  \n",
    "This repo is dedicated to solving LeetCode problems consistently, documenting every step, and improving both problem-solving and coding skills.  \n",
    "\n",
    "---\n",
    "\n",
    "## 📌 What is Lock-In?\n",
    "- Every problem I attempt on LeetCode will be recorded here.  \n",
    "- Each problem has:\n",
    "  - 📄 Problem statement & constraints  \n",
    "  - 💡 Key observations & approach  \n",
    "  - 🧩 Clean implementation  \n",
    "  - 🧪 Local test cases with a harness  \n",
    "  - 🔍 Alternatives & optimizations  \n",
    "  - ✨ Reflections & lessons learned  \n",
    "\n",
    "---\n",
    "\n",
    "## 📚 Patterns I’ll Focus On\n",
    "✔️ Two Pointers / Sliding Window  \n",
    "✔️ Binary Search / Answer Space Search  \n",
    "✔️ Hash Maps / Frequency Counting  \n",
    "✔️ Graphs / Trees (DFS, BFS, LCA, Union-Find)  \n",
    "✔️ Dynamic Programming & Greedy  \n",
    "✔️ Math / Number Theory / Bit Tricks  \n",
    "✔️ Strings / Substrings / KMP / Hashing  \n",
    "\n",
    "---\n",
    "\n",
    "## ⚡ Workflow\n",
    "1. 📝 Pick a LeetCode problem  \n",
    "2. 🧠 Brainstorm naive → optimized approaches  \n",
    "3. 💻 Implement in Jupyter Notebook (`.ipynb`)  \n",
    "4. 🧪 Run with the custom `run_tests` harness  \n",
    "5. 🔁 Refactor & optimize  \n",
    "6. 🏷️ Tag problem by **pattern(s)** and **difficulty**  \n",
    "\n",
    "---\n",
    "\n",
    "## 🎯 Goals\n",
    "- Commit **daily or weekly** progress ✅  \n",
    "- Build a **personal problem-solving handbook** 📖  \n",
    "- Level up for **interviews, quant roles, and competitions** 💼⚔️  \n",
    "---\n",
    "\n",
    "## 🌟 Motivation\n",
    "> *“Grind, document, improve. Problems may repeat, but patterns remain.”*  \n",
    "\n",
    "🔥 Let’s lock in and get better every single day! 🔥\n"
   ]
  },
  {
   "cell_type": "code",
   "execution_count": 2,
   "id": "8ee759f4",
   "metadata": {},
   "outputs": [
    {
     "name": "stdout",
     "output_type": "stream",
     "text": [
      "Hello World\n"
     ]
    }
   ],
   "source": [
    "#Test only \n",
    "print(\"Hello World\")"
   ]
  },
  {
   "cell_type": "code",
   "execution_count": null,
   "id": "ac543552",
   "metadata": {},
   "outputs": [],
   "source": [
    "#Question 1 (Category, Difficulty, Topic)\n"
   ]
  }
 ],
 "metadata": {
  "kernelspec": {
   "display_name": ".venv",
   "language": "python",
   "name": "python3"
  },
  "language_info": {
   "codemirror_mode": {
    "name": "ipython",
    "version": 3
   },
   "file_extension": ".py",
   "mimetype": "text/x-python",
   "name": "python",
   "nbconvert_exporter": "python",
   "pygments_lexer": "ipython3",
   "version": "3.13.5"
  }
 },
 "nbformat": 4,
 "nbformat_minor": 5
}
